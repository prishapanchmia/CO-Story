{
 "cells": [
  {
   "cell_type": "code",
   "execution_count": 37,
   "metadata": {},
   "outputs": [
    {
     "name": "stdout",
     "output_type": "stream",
     "text": [
      "Collecting pdftotext\n",
      "  Using cached pdftotext-2.1.5.tar.gz (98 kB)\n",
      "Building wheels for collected packages: pdftotext\n",
      "  Building wheel for pdftotext (setup.py): started\n",
      "  Building wheel for pdftotext (setup.py): finished with status 'error'\n",
      "  Running setup.py clean for pdftotext\n",
      "Failed to build pdftotext\n",
      "Installing collected packages: pdftotext\n",
      "    Running setup.py install for pdftotext: started\n",
      "    Running setup.py install for pdftotext: finished with status 'error'\n",
      "Note: you may need to restart the kernel to use updated packages.\n"
     ]
    },
    {
     "name": "stderr",
     "output_type": "stream",
     "text": [
      "  ERROR: Command errored out with exit status 1:\n",
      "   command: 'C:\\Users\\parab\\anaconda3\\python.exe' -u -c 'import sys, setuptools, tokenize; sys.argv[0] = '\"'\"'C:\\\\Users\\\\Public\\\\Documents\\\\Wondershare\\\\CreatorTemp\\\\pip-install-b0ueaui6\\\\pdftotext\\\\setup.py'\"'\"'; __file__='\"'\"'C:\\\\Users\\\\Public\\\\Documents\\\\Wondershare\\\\CreatorTemp\\\\pip-install-b0ueaui6\\\\pdftotext\\\\setup.py'\"'\"';f=getattr(tokenize, '\"'\"'open'\"'\"', open)(__file__);code=f.read().replace('\"'\"'\\r\\n'\"'\"', '\"'\"'\\n'\"'\"');f.close();exec(compile(code, __file__, '\"'\"'exec'\"'\"'))' bdist_wheel -d 'C:\\Users\\Public\\Documents\\Wondershare\\CreatorTemp\\pip-wheel-ky2k9a4t'\n",
      "       cwd: C:\\Users\\Public\\Documents\\Wondershare\\CreatorTemp\\pip-install-b0ueaui6\\pdftotext\\\n",
      "  Complete output (69 lines):\n",
      "  WARNING: pkg-config not found--guessing at poppler version.\n",
      "           If the build fails, install pkg-config and try again.\n",
      "  running bdist_wheel\n",
      "  running build\n",
      "  running build_ext\n",
      "  building 'pdftotext' extension\n",
      "  creating build\n",
      "  creating build\\temp.win-amd64-3.8\n",
      "  creating build\\temp.win-amd64-3.8\\Release\n",
      "  C:\\Program Files (x86)\\Microsoft Visual Studio\\2019\\Community\\VC\\Tools\\MSVC\\14.27.29110\\bin\\HostX86\\x64\\cl.exe /c /nologo /Ox /W3 /GL /DNDEBUG /MD -DPOPPLER_CPP_AT_LEAST_0_30_0=1 -IC:\\Users\\parab\\anaconda3\\Library\\include -IC:\\Users\\parab\\anaconda3\\include -IC:\\Users\\parab\\anaconda3\\include \"-IC:\\Program Files (x86)\\Microsoft Visual Studio\\2019\\Community\\VC\\Tools\\MSVC\\14.27.29110\\include\" \"-IC:\\Program Files (x86)\\Windows Kits\\NETFXSDK\\4.8\\include\\um\" \"-IC:\\Program Files (x86)\\Windows Kits\\10\\include\\10.0.18362.0\\ucrt\" \"-IC:\\Program Files (x86)\\Windows Kits\\10\\include\\10.0.18362.0\\shared\" \"-IC:\\Program Files (x86)\\Windows Kits\\10\\include\\10.0.18362.0\\um\" \"-IC:\\Program Files (x86)\\Windows Kits\\10\\include\\10.0.18362.0\\winrt\" \"-IC:\\Program Files (x86)\\Windows Kits\\10\\include\\10.0.18362.0\\cppwinrt\" /EHsc /Tppdftotext.cpp /Fobuild\\temp.win-amd64-3.8\\Release\\pdftotext.obj -Wall\n",
      "  pdftotext.cpp\n",
      "  C:\\Program Files (x86)\\Windows Kits\\10\\include\\10.0.18362.0\\ucrt\\corecrt_io.h(49): warning C4820: '_finddata32i64_t': '4' bytes padding added after data member '_finddata32i64_t::name'\n",
      "  C:\\Program Files (x86)\\Windows Kits\\10\\include\\10.0.18362.0\\ucrt\\corecrt_io.h(54): warning C4820: '_finddata64i32_t': '4' bytes padding added after data member '_finddata64i32_t::attrib'\n",
      "  C:\\Program Files (x86)\\Windows Kits\\10\\include\\10.0.18362.0\\ucrt\\corecrt_io.h(64): warning C4820: '__finddata64_t': '4' bytes padding added after data member '__finddata64_t::attrib'\n",
      "  C:\\Program Files (x86)\\Windows Kits\\10\\include\\10.0.18362.0\\ucrt\\corecrt_io.h(69): warning C4820: '__finddata64_t': '4' bytes padding added after data member '__finddata64_t::name'\n",
      "  C:\\Program Files (x86)\\Windows Kits\\10\\include\\10.0.18362.0\\ucrt\\time.h(36): warning C4820: '_timespec64': '4' bytes padding added after data member '_timespec64::tv_nsec'\n",
      "  C:\\Program Files (x86)\\Windows Kits\\10\\include\\10.0.18362.0\\ucrt\\time.h(43): warning C4820: 'timespec': '4' bytes padding added after data member 'timespec::tv_nsec'\n",
      "  C:\\Users\\parab\\anaconda3\\include\\object.h(182): warning C4820: '<unnamed-tag>': '4' bytes padding added after data member '<unnamed-tag>::slot'\n",
      "  C:\\Users\\parab\\anaconda3\\include\\object.h(190): warning C4820: '<unnamed-tag>': '4' bytes padding added after data member '<unnamed-tag>::flags'\n",
      "  C:\\Users\\parab\\anaconda3\\include\\cpython/object.h(212): warning C4820: '_typeobject': '4' bytes padding added after data member '_typeobject::tp_flags'\n",
      "  C:\\Users\\parab\\anaconda3\\include\\cpython/object.h(256): warning C4820: '_typeobject': '4' bytes padding added after data member '_typeobject::tp_version_tag'\n",
      "  C:\\Users\\parab\\anaconda3\\include\\bytearrayobject.h(30): warning C4820: '<unnamed-tag>': '4' bytes padding added after data member '<unnamed-tag>::ob_exports'\n",
      "  C:\\Users\\parab\\anaconda3\\include\\bytesobject.h(41): warning C4820: '<unnamed-tag>': '7' bytes padding added after data member '<unnamed-tag>::ob_sval'\n",
      "  C:\\Users\\parab\\anaconda3\\include\\bytesobject.h(165): warning C4820: '<unnamed-tag>': '4' bytes padding added after data member '<unnamed-tag>::small_buffer'\n",
      "  C:\\Users\\parab\\anaconda3\\include\\cpython/unicodeobject.h(221): warning C4820: '<unnamed-tag>': '4' bytes padding added after data member '<unnamed-tag>::state'\n",
      "  C:\\Users\\parab\\anaconda3\\include\\cpython/unicodeobject.h(625): warning C4820: '<unnamed-tag>': '2' bytes padding added after data member '<unnamed-tag>::readonly'\n",
      "  C:\\Users\\parab\\anaconda3\\include\\longintrepr.h(88): warning C4820: '_longobject': '4' bytes padding added after data member '_longobject::ob_digit'\n",
      "  C:\\Users\\parab\\anaconda3\\include\\memoryobject.h(45): warning C4820: '<unnamed-tag>': '4' bytes padding added after data member '<unnamed-tag>::flags'\n",
      "  C:\\Users\\parab\\anaconda3\\include\\memoryobject.h(62): warning C4820: '<unnamed-tag>': '4' bytes padding added after data member '<unnamed-tag>::flags'\n",
      "  C:\\Users\\parab\\anaconda3\\include\\methodobject.h(56): warning C4820: 'PyMethodDef': '4' bytes padding added after data member 'PyMethodDef::ml_flags'\n",
      "  C:\\Users\\parab\\anaconda3\\include\\moduleobject.h(63): warning C4820: 'PyModuleDef_Slot': '4' bytes padding added after data member 'PyModuleDef_Slot::slot'\n",
      "  C:\\Users\\parab\\anaconda3\\include\\cpython/initconfig.h(16): warning C4820: '<unnamed-tag>': '4' bytes padding added after data member '<unnamed-tag>::_type'\n",
      "  C:\\Users\\parab\\anaconda3\\include\\cpython/initconfig.h(19): warning C4820: '<unnamed-tag>': '4' bytes padding added after data member '<unnamed-tag>::exitcode'\n",
      "  C:\\Users\\parab\\anaconda3\\include\\cpython/initconfig.h(202): warning C4820: '<unnamed-tag>': '4' bytes padding added after data member '<unnamed-tag>::parse_argv'\n",
      "  C:\\Users\\parab\\anaconda3\\include\\cpython/initconfig.h(357): warning C4820: '<unnamed-tag>': '4' bytes padding added after data member '<unnamed-tag>::legacy_windows_stdio'\n",
      "  C:\\Users\\parab\\anaconda3\\include\\cpython/initconfig.h(367): warning C4820: '<unnamed-tag>': '4' bytes padding added after data member '<unnamed-tag>::pathconfig_warnings'\n",
      "  C:\\Users\\parab\\anaconda3\\include\\cpython/initconfig.h(374): warning C4820: '<unnamed-tag>': '4' bytes padding added after data member '<unnamed-tag>::module_search_paths_set'\n",
      "  C:\\Users\\parab\\anaconda3\\include\\cpython/initconfig.h(393): warning C4820: '<unnamed-tag>': '4' bytes padding added after data member '<unnamed-tag>::skip_source_first_line'\n",
      "  C:\\Users\\parab\\anaconda3\\include\\cpython/pystate.h(65): warning C4820: '_ts': '2' bytes padding added after data member '_ts::recursion_critical'\n",
      "  C:\\Users\\parab\\anaconda3\\include\\cpython/pystate.h(73): warning C4820: '_ts': '4' bytes padding added after data member '_ts::use_tracing'\n",
      "  C:\\Users\\parab\\anaconda3\\include\\cpython/pystate.h(96): warning C4820: '_ts': '4' bytes padding added after data member '_ts::gilstate_counter'\n",
      "  C:\\Users\\parab\\anaconda3\\include\\cpython/pystate.h(130): warning C4820: '_ts': '4' bytes padding added after data member '_ts::coroutine_origin_tracking_depth'\n",
      "  C:\\Users\\parab\\anaconda3\\include\\genobject.h(35): warning C4820: '<unnamed-tag>': '7' bytes padding added after data member '<unnamed-tag>::gi_running'\n",
      "  C:\\Users\\parab\\anaconda3\\include\\genobject.h(55): warning C4820: '<unnamed-tag>': '7' bytes padding added after data member '<unnamed-tag>::cr_running'\n",
      "  C:\\Users\\parab\\anaconda3\\include\\genobject.h(72): warning C4820: '<unnamed-tag>': '7' bytes padding added after data member '<unnamed-tag>::ag_running'\n",
      "  C:\\Users\\parab\\anaconda3\\include\\genobject.h(85): warning C4820: '<unnamed-tag>': '4' bytes padding added after data member '<unnamed-tag>::ag_running_async'\n",
      "  C:\\Users\\parab\\anaconda3\\include\\descrobject.h(29): warning C4820: 'wrapperbase': '4' bytes padding added after data member 'wrapperbase::offset'\n",
      "  C:\\Users\\parab\\anaconda3\\include\\descrobject.h(33): warning C4820: 'wrapperbase': '4' bytes padding added after data member 'wrapperbase::flags'\n",
      "  C:\\Users\\parab\\anaconda3\\include\\structseq.h(20): warning C4820: 'PyStructSequence_Desc': '4' bytes padding added after data member 'PyStructSequence_Desc::n_in_sequence'\n",
      "  C:\\Users\\parab\\anaconda3\\include\\cpython/pyerrors.h(19): warning C4820: '<unnamed-tag>': '7' bytes padding added after data member '<unnamed-tag>::suppress_context'\n",
      "  C:\\Users\\parab\\anaconda3\\include\\cpython/pyerrors.h(23): warning C4820: '<unnamed-tag>': '7' bytes padding added after data member '<unnamed-tag>::suppress_context'\n",
      "  C:\\Users\\parab\\anaconda3\\include\\cpython/pyerrors.h(33): warning C4820: '<unnamed-tag>': '7' bytes padding added after data member '<unnamed-tag>::suppress_context'\n",
      "  C:\\Users\\parab\\anaconda3\\include\\cpython/pyerrors.h(40): warning C4820: '<unnamed-tag>': '7' bytes padding added after data member '<unnamed-tag>::suppress_context'\n",
      "  C:\\Users\\parab\\anaconda3\\include\\cpython/pyerrors.h(49): warning C4820: '<unnamed-tag>': '7' bytes padding added after data member '<unnamed-tag>::suppress_context'\n",
      "  C:\\Users\\parab\\anaconda3\\include\\cpython/pyerrors.h(54): warning C4820: '<unnamed-tag>': '7' bytes padding added after data member '<unnamed-tag>::suppress_context'\n",
      "  C:\\Users\\parab\\anaconda3\\include\\cpython/pyerrors.h(66): warning C4820: '<unnamed-tag>': '7' bytes padding added after data member '<unnamed-tag>::suppress_context'\n",
      "  C:\\Users\\parab\\anaconda3\\include\\modsupport.h(97): warning C4820: '_PyArg_Parser': '4' bytes padding added after data member '_PyArg_Parser::max'\n",
      "  C:\\Users\\parab\\anaconda3\\include\\code.h(32): warning C4820: '<unnamed-tag>': '4' bytes padding added after data member '<unnamed-tag>::co_firstlineno'\n",
      "  C:\\Users\\parab\\anaconda3\\include\\code.h(69): warning C4820: '<unnamed-tag>': '3' bytes padding added after data member '<unnamed-tag>::co_opcache_size'\n",
      "  C:\\Users\\parab\\anaconda3\\include\\import.h(138): warning C4820: '_frozen': '4' bytes padding added after data member '_frozen::size'\n",
      "  C:\\Users\\parab\\anaconda3\\include\\cpython/abstract.h(77): warning C4365: 'return': conversion from 'size_t' to 'Py_ssize_t', signed/unsigned mismatch\n",
      "  C:\\Users\\parab\\anaconda3\\include\\fileutils.h(73): warning C4820: '_Py_stat_struct': '4' bytes padding added after data member '_Py_stat_struct::st_dev'\n",
      "  C:\\Users\\parab\\anaconda3\\include\\fileutils.h(75): warning C4820: '_Py_stat_struct': '2' bytes padding added after data member '_Py_stat_struct::st_mode'\n",
      "  C:\\Users\\parab\\anaconda3\\include\\fileutils.h(79): warning C4820: '_Py_stat_struct': '4' bytes padding added after data member '_Py_stat_struct::st_rdev'\n",
      "  C:\\Users\\parab\\anaconda3\\include\\fileutils.h(82): warning C4820: '_Py_stat_struct': '4' bytes padding added after data member '_Py_stat_struct::st_atime_nsec'\n",
      "  C:\\Users\\parab\\anaconda3\\include\\fileutils.h(84): warning C4820: '_Py_stat_struct': '4' bytes padding added after data member '_Py_stat_struct::st_mtime_nsec'\n",
      "  C:\\Users\\parab\\anaconda3\\include\\fileutils.h(88): warning C4820: '_Py_stat_struct': '4' bytes padding added after data member '_Py_stat_struct::st_reparse_tag'\n",
      "  pdftotext.cpp(3): fatal error C1083: Cannot open include file: 'poppler/cpp/poppler-document.h': No such file or directory\n",
      "  error: command 'C:\\\\Program Files (x86)\\\\Microsoft Visual Studio\\\\2019\\\\Community\\\\VC\\\\Tools\\\\MSVC\\\\14.27.29110\\\\bin\\\\HostX86\\\\x64\\\\cl.exe' failed with exit status 2\n",
      "  ----------------------------------------\n",
      "  ERROR: Failed building wheel for pdftotext\n",
      "    ERROR: Command errored out with exit status 1:\n",
      "     command: 'C:\\Users\\parab\\anaconda3\\python.exe' -u -c 'import sys, setuptools, tokenize; sys.argv[0] = '\"'\"'C:\\\\Users\\\\Public\\\\Documents\\\\Wondershare\\\\CreatorTemp\\\\pip-install-b0ueaui6\\\\pdftotext\\\\setup.py'\"'\"'; __file__='\"'\"'C:\\\\Users\\\\Public\\\\Documents\\\\Wondershare\\\\CreatorTemp\\\\pip-install-b0ueaui6\\\\pdftotext\\\\setup.py'\"'\"';f=getattr(tokenize, '\"'\"'open'\"'\"', open)(__file__);code=f.read().replace('\"'\"'\\r\\n'\"'\"', '\"'\"'\\n'\"'\"');f.close();exec(compile(code, __file__, '\"'\"'exec'\"'\"'))' install --record 'C:\\Users\\Public\\Documents\\Wondershare\\CreatorTemp\\pip-record-6gbzsshn\\install-record.txt' --single-version-externally-managed --compile --install-headers 'C:\\Users\\parab\\anaconda3\\Include\\pdftotext'\n",
      "         cwd: C:\\Users\\Public\\Documents\\Wondershare\\CreatorTemp\\pip-install-b0ueaui6\\pdftotext\\\n",
      "    Complete output (69 lines):\n",
      "    WARNING: pkg-config not found--guessing at poppler version.\n",
      "             If the build fails, install pkg-config and try again.\n",
      "    running install\n",
      "    running build\n",
      "    running build_ext\n",
      "    building 'pdftotext' extension\n",
      "    creating build\n",
      "    creating build\\temp.win-amd64-3.8\n",
      "    creating build\\temp.win-amd64-3.8\\Release\n",
      "    C:\\Program Files (x86)\\Microsoft Visual Studio\\2019\\Community\\VC\\Tools\\MSVC\\14.27.29110\\bin\\HostX86\\x64\\cl.exe /c /nologo /Ox /W3 /GL /DNDEBUG /MD -DPOPPLER_CPP_AT_LEAST_0_30_0=1 -IC:\\Users\\parab\\anaconda3\\Library\\include -IC:\\Users\\parab\\anaconda3\\include -IC:\\Users\\parab\\anaconda3\\include \"-IC:\\Program Files (x86)\\Microsoft Visual Studio\\2019\\Community\\VC\\Tools\\MSVC\\14.27.29110\\include\" \"-IC:\\Program Files (x86)\\Windows Kits\\NETFXSDK\\4.8\\include\\um\" \"-IC:\\Program Files (x86)\\Windows Kits\\10\\include\\10.0.18362.0\\ucrt\" \"-IC:\\Program Files (x86)\\Windows Kits\\10\\include\\10.0.18362.0\\shared\" \"-IC:\\Program Files (x86)\\Windows Kits\\10\\include\\10.0.18362.0\\um\" \"-IC:\\Program Files (x86)\\Windows Kits\\10\\include\\10.0.18362.0\\winrt\" \"-IC:\\Program Files (x86)\\Windows Kits\\10\\include\\10.0.18362.0\\cppwinrt\" /EHsc /Tppdftotext.cpp /Fobuild\\temp.win-amd64-3.8\\Release\\pdftotext.obj -Wall\n",
      "    pdftotext.cpp\n",
      "    C:\\Program Files (x86)\\Windows Kits\\10\\include\\10.0.18362.0\\ucrt\\corecrt_io.h(49): warning C4820: '_finddata32i64_t': '4' bytes padding added after data member '_finddata32i64_t::name'\n",
      "    C:\\Program Files (x86)\\Windows Kits\\10\\include\\10.0.18362.0\\ucrt\\corecrt_io.h(54): warning C4820: '_finddata64i32_t': '4' bytes padding added after data member '_finddata64i32_t::attrib'\n",
      "    C:\\Program Files (x86)\\Windows Kits\\10\\include\\10.0.18362.0\\ucrt\\corecrt_io.h(64): warning C4820: '__finddata64_t': '4' bytes padding added after data member '__finddata64_t::attrib'\n",
      "    C:\\Program Files (x86)\\Windows Kits\\10\\include\\10.0.18362.0\\ucrt\\corecrt_io.h(69): warning C4820: '__finddata64_t': '4' bytes padding added after data member '__finddata64_t::name'\n",
      "    C:\\Program Files (x86)\\Windows Kits\\10\\include\\10.0.18362.0\\ucrt\\time.h(36): warning C4820: '_timespec64': '4' bytes padding added after data member '_timespec64::tv_nsec'\n",
      "    C:\\Program Files (x86)\\Windows Kits\\10\\include\\10.0.18362.0\\ucrt\\time.h(43): warning C4820: 'timespec': '4' bytes padding added after data member 'timespec::tv_nsec'\n",
      "    C:\\Users\\parab\\anaconda3\\include\\object.h(182): warning C4820: '<unnamed-tag>': '4' bytes padding added after data member '<unnamed-tag>::slot'\n",
      "    C:\\Users\\parab\\anaconda3\\include\\object.h(190): warning C4820: '<unnamed-tag>': '4' bytes padding added after data member '<unnamed-tag>::flags'\n",
      "    C:\\Users\\parab\\anaconda3\\include\\cpython/object.h(212): warning C4820: '_typeobject': '4' bytes padding added after data member '_typeobject::tp_flags'\n",
      "    C:\\Users\\parab\\anaconda3\\include\\cpython/object.h(256): warning C4820: '_typeobject': '4' bytes padding added after data member '_typeobject::tp_version_tag'\n",
      "    C:\\Users\\parab\\anaconda3\\include\\bytearrayobject.h(30): warning C4820: '<unnamed-tag>': '4' bytes padding added after data member '<unnamed-tag>::ob_exports'\n",
      "    C:\\Users\\parab\\anaconda3\\include\\bytesobject.h(41): warning C4820: '<unnamed-tag>': '7' bytes padding added after data member '<unnamed-tag>::ob_sval'\n",
      "    C:\\Users\\parab\\anaconda3\\include\\bytesobject.h(165): warning C4820: '<unnamed-tag>': '4' bytes padding added after data member '<unnamed-tag>::small_buffer'\n",
      "    C:\\Users\\parab\\anaconda3\\include\\cpython/unicodeobject.h(221): warning C4820: '<unnamed-tag>': '4' bytes padding added after data member '<unnamed-tag>::state'\n",
      "    C:\\Users\\parab\\anaconda3\\include\\cpython/unicodeobject.h(625): warning C4820: '<unnamed-tag>': '2' bytes padding added after data member '<unnamed-tag>::readonly'\n",
      "    C:\\Users\\parab\\anaconda3\\include\\longintrepr.h(88): warning C4820: '_longobject': '4' bytes padding added after data member '_longobject::ob_digit'\n",
      "    C:\\Users\\parab\\anaconda3\\include\\memoryobject.h(45): warning C4820: '<unnamed-tag>': '4' bytes padding added after data member '<unnamed-tag>::flags'\n",
      "    C:\\Users\\parab\\anaconda3\\include\\memoryobject.h(62): warning C4820: '<unnamed-tag>': '4' bytes padding added after data member '<unnamed-tag>::flags'\n",
      "    C:\\Users\\parab\\anaconda3\\include\\methodobject.h(56): warning C4820: 'PyMethodDef': '4' bytes padding added after data member 'PyMethodDef::ml_flags'\n",
      "    C:\\Users\\parab\\anaconda3\\include\\moduleobject.h(63): warning C4820: 'PyModuleDef_Slot': '4' bytes padding added after data member 'PyModuleDef_Slot::slot'\n",
      "    C:\\Users\\parab\\anaconda3\\include\\cpython/initconfig.h(16): warning C4820: '<unnamed-tag>': '4' bytes padding added after data member '<unnamed-tag>::_type'\n",
      "    C:\\Users\\parab\\anaconda3\\include\\cpython/initconfig.h(19): warning C4820: '<unnamed-tag>': '4' bytes padding added after data member '<unnamed-tag>::exitcode'\n",
      "    C:\\Users\\parab\\anaconda3\\include\\cpython/initconfig.h(202): warning C4820: '<unnamed-tag>': '4' bytes padding added after data member '<unnamed-tag>::parse_argv'\n",
      "    C:\\Users\\parab\\anaconda3\\include\\cpython/initconfig.h(357): warning C4820: '<unnamed-tag>': '4' bytes padding added after data member '<unnamed-tag>::legacy_windows_stdio'\n",
      "    C:\\Users\\parab\\anaconda3\\include\\cpython/initconfig.h(367): warning C4820: '<unnamed-tag>': '4' bytes padding added after data member '<unnamed-tag>::pathconfig_warnings'\n",
      "    C:\\Users\\parab\\anaconda3\\include\\cpython/initconfig.h(374): warning C4820: '<unnamed-tag>': '4' bytes padding added after data member '<unnamed-tag>::module_search_paths_set'\n",
      "    C:\\Users\\parab\\anaconda3\\include\\cpython/initconfig.h(393): warning C4820: '<unnamed-tag>': '4' bytes padding added after data member '<unnamed-tag>::skip_source_first_line'\n",
      "    C:\\Users\\parab\\anaconda3\\include\\cpython/pystate.h(65): warning C4820: '_ts': '2' bytes padding added after data member '_ts::recursion_critical'\n",
      "    C:\\Users\\parab\\anaconda3\\include\\cpython/pystate.h(73): warning C4820: '_ts': '4' bytes padding added after data member '_ts::use_tracing'\n",
      "    C:\\Users\\parab\\anaconda3\\include\\cpython/pystate.h(96): warning C4820: '_ts': '4' bytes padding added after data member '_ts::gilstate_counter'\n",
      "    C:\\Users\\parab\\anaconda3\\include\\cpython/pystate.h(130): warning C4820: '_ts': '4' bytes padding added after data member '_ts::coroutine_origin_tracking_depth'\n",
      "    C:\\Users\\parab\\anaconda3\\include\\genobject.h(35): warning C4820: '<unnamed-tag>': '7' bytes padding added after data member '<unnamed-tag>::gi_running'\n",
      "    C:\\Users\\parab\\anaconda3\\include\\genobject.h(55): warning C4820: '<unnamed-tag>': '7' bytes padding added after data member '<unnamed-tag>::cr_running'\n",
      "    C:\\Users\\parab\\anaconda3\\include\\genobject.h(72): warning C4820: '<unnamed-tag>': '7' bytes padding added after data member '<unnamed-tag>::ag_running'\n",
      "    C:\\Users\\parab\\anaconda3\\include\\genobject.h(85): warning C4820: '<unnamed-tag>': '4' bytes padding added after data member '<unnamed-tag>::ag_running_async'\n",
      "    C:\\Users\\parab\\anaconda3\\include\\descrobject.h(29): warning C4820: 'wrapperbase': '4' bytes padding added after data member 'wrapperbase::offset'\n",
      "    C:\\Users\\parab\\anaconda3\\include\\descrobject.h(33): warning C4820: 'wrapperbase': '4' bytes padding added after data member 'wrapperbase::flags'\n",
      "    C:\\Users\\parab\\anaconda3\\include\\structseq.h(20): warning C4820: 'PyStructSequence_Desc': '4' bytes padding added after data member 'PyStructSequence_Desc::n_in_sequence'\n",
      "    C:\\Users\\parab\\anaconda3\\include\\cpython/pyerrors.h(19): warning C4820: '<unnamed-tag>': '7' bytes padding added after data member '<unnamed-tag>::suppress_context'\n",
      "    C:\\Users\\parab\\anaconda3\\include\\cpython/pyerrors.h(23): warning C4820: '<unnamed-tag>': '7' bytes padding added after data member '<unnamed-tag>::suppress_context'\n",
      "    C:\\Users\\parab\\anaconda3\\include\\cpython/pyerrors.h(33): warning C4820: '<unnamed-tag>': '7' bytes padding added after data member '<unnamed-tag>::suppress_context'\n",
      "    C:\\Users\\parab\\anaconda3\\include\\cpython/pyerrors.h(40): warning C4820: '<unnamed-tag>': '7' bytes padding added after data member '<unnamed-tag>::suppress_context'\n",
      "    C:\\Users\\parab\\anaconda3\\include\\cpython/pyerrors.h(49): warning C4820: '<unnamed-tag>': '7' bytes padding added after data member '<unnamed-tag>::suppress_context'\n",
      "    C:\\Users\\parab\\anaconda3\\include\\cpython/pyerrors.h(54): warning C4820: '<unnamed-tag>': '7' bytes padding added after data member '<unnamed-tag>::suppress_context'\n",
      "    C:\\Users\\parab\\anaconda3\\include\\cpython/pyerrors.h(66): warning C4820: '<unnamed-tag>': '7' bytes padding added after data member '<unnamed-tag>::suppress_context'\n",
      "    C:\\Users\\parab\\anaconda3\\include\\modsupport.h(97): warning C4820: '_PyArg_Parser': '4' bytes padding added after data member '_PyArg_Parser::max'\n",
      "    C:\\Users\\parab\\anaconda3\\include\\code.h(32): warning C4820: '<unnamed-tag>': '4' bytes padding added after data member '<unnamed-tag>::co_firstlineno'\n",
      "    C:\\Users\\parab\\anaconda3\\include\\code.h(69): warning C4820: '<unnamed-tag>': '3' bytes padding added after data member '<unnamed-tag>::co_opcache_size'\n",
      "    C:\\Users\\parab\\anaconda3\\include\\import.h(138): warning C4820: '_frozen': '4' bytes padding added after data member '_frozen::size'\n",
      "    C:\\Users\\parab\\anaconda3\\include\\cpython/abstract.h(77): warning C4365: 'return': conversion from 'size_t' to 'Py_ssize_t', signed/unsigned mismatch\n",
      "    C:\\Users\\parab\\anaconda3\\include\\fileutils.h(73): warning C4820: '_Py_stat_struct': '4' bytes padding added after data member '_Py_stat_struct::st_dev'\n",
      "    C:\\Users\\parab\\anaconda3\\include\\fileutils.h(75): warning C4820: '_Py_stat_struct': '2' bytes padding added after data member '_Py_stat_struct::st_mode'\n",
      "    C:\\Users\\parab\\anaconda3\\include\\fileutils.h(79): warning C4820: '_Py_stat_struct': '4' bytes padding added after data member '_Py_stat_struct::st_rdev'\n",
      "    C:\\Users\\parab\\anaconda3\\include\\fileutils.h(82): warning C4820: '_Py_stat_struct': '4' bytes padding added after data member '_Py_stat_struct::st_atime_nsec'\n",
      "    C:\\Users\\parab\\anaconda3\\include\\fileutils.h(84): warning C4820: '_Py_stat_struct': '4' bytes padding added after data member '_Py_stat_struct::st_mtime_nsec'\n",
      "    C:\\Users\\parab\\anaconda3\\include\\fileutils.h(88): warning C4820: '_Py_stat_struct': '4' bytes padding added after data member '_Py_stat_struct::st_reparse_tag'\n",
      "    pdftotext.cpp(3): fatal error C1083: Cannot open include file: 'poppler/cpp/poppler-document.h': No such file or directory\n",
      "    error: command 'C:\\\\Program Files (x86)\\\\Microsoft Visual Studio\\\\2019\\\\Community\\\\VC\\\\Tools\\\\MSVC\\\\14.27.29110\\\\bin\\\\HostX86\\\\x64\\\\cl.exe' failed with exit status 2\n",
      "    ----------------------------------------\n",
      "ERROR: Command errored out with exit status 1: 'C:\\Users\\parab\\anaconda3\\python.exe' -u -c 'import sys, setuptools, tokenize; sys.argv[0] = '\"'\"'C:\\\\Users\\\\Public\\\\Documents\\\\Wondershare\\\\CreatorTemp\\\\pip-install-b0ueaui6\\\\pdftotext\\\\setup.py'\"'\"'; __file__='\"'\"'C:\\\\Users\\\\Public\\\\Documents\\\\Wondershare\\\\CreatorTemp\\\\pip-install-b0ueaui6\\\\pdftotext\\\\setup.py'\"'\"';f=getattr(tokenize, '\"'\"'open'\"'\"', open)(__file__);code=f.read().replace('\"'\"'\\r\\n'\"'\"', '\"'\"'\\n'\"'\"');f.close();exec(compile(code, __file__, '\"'\"'exec'\"'\"'))' install --record 'C:\\Users\\Public\\Documents\\Wondershare\\CreatorTemp\\pip-record-6gbzsshn\\install-record.txt' --single-version-externally-managed --compile --install-headers 'C:\\Users\\parab\\anaconda3\\Include\\pdftotext' Check the logs for full command output.\n"
     ]
    }
   ],
   "source": [
    "pip install pdftotext"
   ]
  },
  {
   "cell_type": "code",
   "execution_count": 53,
   "metadata": {},
   "outputs": [],
   "source": [
    "from pdf2image import convert_from_path \n",
    "import textract\n",
    "import pytesseract\n",
    "from PIL import Image \n",
    "import os"
   ]
  },
  {
   "cell_type": "code",
   "execution_count": 56,
   "metadata": {},
   "outputs": [],
   "source": [
    "filename = \"page0.jpg\"\n",
    "text = \"\""
   ]
  },
  {
   "cell_type": "code",
   "execution_count": 60,
   "metadata": {},
   "outputs": [
    {
     "data": {
      "text/plain": [
       "str"
      ]
     },
     "execution_count": 60,
     "metadata": {},
     "output_type": "execute_result"
    }
   ],
   "source": [
    "type(pytesseract.image_to_string(Image.open(filename)))"
   ]
  },
  {
   "cell_type": "code",
   "execution_count": 61,
   "metadata": {},
   "outputs": [],
   "source": [
    "text=text + ((pytesseract.image_to_string(Image.open(filename))))"
   ]
  },
  {
   "cell_type": "code",
   "execution_count": 67,
   "metadata": {},
   "outputs": [
    {
     "data": {
      "text/plain": [
       "-1"
      ]
     },
     "execution_count": 67,
     "metadata": {},
     "output_type": "execute_result"
    }
   ],
   "source": [
    "text.find('DETECTED')"
   ]
  },
  {
   "cell_type": "code",
   "execution_count": 66,
   "metadata": {},
   "outputs": [],
   "source": [
    "text = ''"
   ]
  },
  {
   "cell_type": "code",
   "execution_count": null,
   "metadata": {},
   "outputs": [],
   "source": []
  }
 ],
 "metadata": {
  "kernelspec": {
   "display_name": "Python 3",
   "language": "python",
   "name": "python3"
  },
  "language_info": {
   "codemirror_mode": {
    "name": "ipython",
    "version": 3
   },
   "file_extension": ".py",
   "mimetype": "text/x-python",
   "name": "python",
   "nbconvert_exporter": "python",
   "pygments_lexer": "ipython3",
   "version": "3.8.3"
  }
 },
 "nbformat": 4,
 "nbformat_minor": 4
}
